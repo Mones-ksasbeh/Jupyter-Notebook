{
 "cells": [
  {
   "cell_type": "markdown",
   "id": "1970ce23-a0d8-409b-bcd3-fbb9ec1b19aa",
   "metadata": {
    "tags": []
   },
   "source": [
    "# Data Science Tools and Ecosystem"
   ]
  },
  {
   "cell_type": "markdown",
   "id": "93bf0043-ccae-4344-b73b-625a6cd5eb2a",
   "metadata": {},
   "source": [
    "In this notebook, Data Science Tools and Ecosystem are summarized."
   ]
  },
  {
   "cell_type": "markdown",
   "id": "0c1f211d-9943-41af-a400-60694726d25c",
   "metadata": {
    "tags": []
   },
   "source": [
    "* Some of the popular languages that Data Scientists use are: \n",
    " 1. Python \n",
    " 2. R \n",
    " 3. Julia "
   ]
  },
  {
   "cell_type": "markdown",
   "id": "e573746e-dc86-45e6-ba44-a5dfc7d26e9c",
   "metadata": {},
   "source": [
    "* Some of the commonly used libraries used by Data Scientists include:\n",
    " 1. Pandas \n",
    " 2. ggplot\n",
    " 3. Numpy "
   ]
  },
  {
   "cell_type": "markdown",
   "id": "bb589fff-662c-40c6-9716-a4afd71b99a7",
   "metadata": {},
   "source": [
    "|     Column 1      | \n",
    "|:-----------------:|\n",
    "|      R Stadio     | \n",
    "|    IBM watsion    |  \n",
    "|  Jypter notbook   |  "
   ]
  },
  {
   "cell_type": "markdown",
   "id": "424749c4-91c4-4026-95b9-d20f96be5ff0",
   "metadata": {},
   "source": [
    "### Below are a few examples of evaluating arithmetic expressions in Python.\n"
   ]
  },
  {
   "cell_type": "code",
   "execution_count": null,
   "id": "aef91da2-80a5-47be-98fd-f75048abf081",
   "metadata": {},
   "outputs": [],
   "source": [
    "# This a simple arithmetic expression to mutiply then add integers\n",
    "print((3*4)+5)\n"
   ]
  },
  {
   "cell_type": "code",
   "execution_count": 1,
   "id": "c4615aaf-ee5b-44b3-baf2-d55ef05e3f77",
   "metadata": {
    "tags": []
   },
   "outputs": [
    {
     "name": "stdout",
     "output_type": "stream",
     "text": [
      "3.3333333333333335\n"
     ]
    }
   ],
   "source": [
    "#This will convert 200 minutes to hours by diving by 60\n",
    "print(200/60)"
   ]
  },
  {
   "cell_type": "markdown",
   "id": "f82196a1-6e7c-4c43-8e47-74859322e4c4",
   "metadata": {},
   "source": [
    "# **Objectives:**\n",
    "  * List popular languages for Data Science\n",
    "  * How to create a file in Jypter\n",
    "  * What is Jypter \n",
    "  * Tools in Data Science "
   ]
  },
  {
   "cell_type": "markdown",
   "id": "7780659a-fe7e-4b50-ab2e-7bd2ec87444b",
   "metadata": {},
   "source": [
    "## Author \n",
    "Mones Nazih Ksasbeh"
   ]
  }
 ],
 "metadata": {
  "kernelspec": {
   "display_name": "Python 3 (ipykernel)",
   "language": "python",
   "name": "python3"
  },
  "language_info": {
   "codemirror_mode": {
    "name": "ipython",
    "version": 3
   },
   "file_extension": ".py",
   "mimetype": "text/x-python",
   "name": "python",
   "nbconvert_exporter": "python",
   "pygments_lexer": "ipython3",
   "version": "3.11.5"
  }
 },
 "nbformat": 4,
 "nbformat_minor": 5
}
